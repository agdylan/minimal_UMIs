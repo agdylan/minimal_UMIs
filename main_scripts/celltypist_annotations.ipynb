{
 "cells": [
  {
   "cell_type": "markdown",
   "metadata": {},
   "source": [
    "# CellTypist Annotations - A tool for cell type annotation"
   ]
  },
  {
   "cell_type": "markdown",
   "metadata": {},
   "source": [
    "## 1k PBMCs: All cells, all genes (excluding MALAT1)"
   ]
  },
  {
   "cell_type": "code",
   "execution_count": 1,
   "metadata": {},
   "outputs": [],
   "source": [
    "\n",
    "import matplotlib.pyplot as plt\n",
    "import numpy as np\n",
    "import pandas as pd\n",
    "import seaborn as sns\n",
    "import scipy\n",
    "import sklearn\n",
    "import anndata as ad \n",
    "from tqdm import tqdm as tqdm\n",
    "import pysam\n",
    "import scanpy as sc\n",
    "\n",
    "\n",
    "base_dir = '/data/dagyeman/cellranger/bam_file_analysis'"
   ]
  },
  {
   "cell_type": "markdown",
   "metadata": {},
   "source": [
    "### Naive Method "
   ]
  },
  {
   "cell_type": "code",
   "execution_count": 7,
   "metadata": {},
   "outputs": [
    {
     "name": "stdout",
     "output_type": "stream",
     "text": [
      "Processing UMI length: 1\n"
     ]
    },
    {
     "name": "stderr",
     "output_type": "stream",
     "text": [
      "🔬 Input data has 1232 cells and 28226 genes\n",
      "🔗 Matching reference genes in the model\n",
      "🧬 3377 features used for prediction\n",
      "⚖️ Scaling input data\n",
      "🖋️ Predicting labels\n",
      "✅ Prediction done!\n",
      "👀 Can not detect a neighborhood graph, will construct one before the over-clustering\n",
      "⛓️ Over-clustering input data with resolution set to 5\n",
      "🗳️ Majority voting the predictions\n",
      "✅ Majority voting done!\n"
     ]
    },
    {
     "name": "stdout",
     "output_type": "stream",
     "text": [
      "Annotated data 1 saved \n",
      "Processing UMI length: 2\n"
     ]
    },
    {
     "name": "stderr",
     "output_type": "stream",
     "text": [
      "🔬 Input data has 1232 cells and 28226 genes\n",
      "🔗 Matching reference genes in the model\n",
      "🧬 3377 features used for prediction\n",
      "⚖️ Scaling input data\n",
      "🖋️ Predicting labels\n",
      "✅ Prediction done!\n",
      "👀 Can not detect a neighborhood graph, will construct one before the over-clustering\n",
      "⛓️ Over-clustering input data with resolution set to 5\n",
      "🗳️ Majority voting the predictions\n",
      "✅ Majority voting done!\n"
     ]
    },
    {
     "name": "stdout",
     "output_type": "stream",
     "text": [
      "Annotated data 2 saved \n",
      "Processing UMI length: 3\n"
     ]
    },
    {
     "name": "stderr",
     "output_type": "stream",
     "text": [
      "🔬 Input data has 1232 cells and 28226 genes\n",
      "🔗 Matching reference genes in the model\n",
      "🧬 3377 features used for prediction\n",
      "⚖️ Scaling input data\n",
      "🖋️ Predicting labels\n",
      "✅ Prediction done!\n",
      "👀 Can not detect a neighborhood graph, will construct one before the over-clustering\n",
      "⛓️ Over-clustering input data with resolution set to 5\n",
      "🗳️ Majority voting the predictions\n",
      "✅ Majority voting done!\n"
     ]
    },
    {
     "name": "stdout",
     "output_type": "stream",
     "text": [
      "Annotated data 3 saved \n",
      "Processing UMI length: 4\n"
     ]
    },
    {
     "name": "stderr",
     "output_type": "stream",
     "text": [
      "🔬 Input data has 1232 cells and 28226 genes\n",
      "🔗 Matching reference genes in the model\n",
      "🧬 3377 features used for prediction\n",
      "⚖️ Scaling input data\n",
      "🖋️ Predicting labels\n",
      "✅ Prediction done!\n",
      "👀 Can not detect a neighborhood graph, will construct one before the over-clustering\n",
      "⛓️ Over-clustering input data with resolution set to 5\n",
      "🗳️ Majority voting the predictions\n",
      "✅ Majority voting done!\n"
     ]
    },
    {
     "name": "stdout",
     "output_type": "stream",
     "text": [
      "Annotated data 4 saved \n",
      "Processing UMI length: 5\n"
     ]
    },
    {
     "name": "stderr",
     "output_type": "stream",
     "text": [
      "🔬 Input data has 1232 cells and 28226 genes\n",
      "🔗 Matching reference genes in the model\n",
      "🧬 3377 features used for prediction\n",
      "⚖️ Scaling input data\n",
      "🖋️ Predicting labels\n",
      "✅ Prediction done!\n",
      "👀 Can not detect a neighborhood graph, will construct one before the over-clustering\n",
      "⛓️ Over-clustering input data with resolution set to 5\n",
      "🗳️ Majority voting the predictions\n",
      "✅ Majority voting done!\n"
     ]
    },
    {
     "name": "stdout",
     "output_type": "stream",
     "text": [
      "Annotated data 5 saved \n",
      "Processing UMI length: 6\n"
     ]
    },
    {
     "name": "stderr",
     "output_type": "stream",
     "text": [
      "🔬 Input data has 1232 cells and 28226 genes\n",
      "🔗 Matching reference genes in the model\n",
      "🧬 3377 features used for prediction\n",
      "⚖️ Scaling input data\n",
      "🖋️ Predicting labels\n",
      "✅ Prediction done!\n",
      "👀 Can not detect a neighborhood graph, will construct one before the over-clustering\n",
      "⛓️ Over-clustering input data with resolution set to 5\n",
      "🗳️ Majority voting the predictions\n",
      "✅ Majority voting done!\n"
     ]
    },
    {
     "name": "stdout",
     "output_type": "stream",
     "text": [
      "Annotated data 6 saved \n",
      "Processing UMI length: 7\n"
     ]
    },
    {
     "name": "stderr",
     "output_type": "stream",
     "text": [
      "🔬 Input data has 1232 cells and 28226 genes\n",
      "🔗 Matching reference genes in the model\n",
      "🧬 3377 features used for prediction\n",
      "⚖️ Scaling input data\n",
      "🖋️ Predicting labels\n",
      "✅ Prediction done!\n",
      "👀 Can not detect a neighborhood graph, will construct one before the over-clustering\n",
      "⛓️ Over-clustering input data with resolution set to 5\n",
      "🗳️ Majority voting the predictions\n",
      "✅ Majority voting done!\n"
     ]
    },
    {
     "name": "stdout",
     "output_type": "stream",
     "text": [
      "Annotated data 7 saved \n",
      "Processing UMI length: 8\n"
     ]
    },
    {
     "name": "stderr",
     "output_type": "stream",
     "text": [
      "🔬 Input data has 1232 cells and 28226 genes\n",
      "🔗 Matching reference genes in the model\n",
      "🧬 3377 features used for prediction\n",
      "⚖️ Scaling input data\n",
      "🖋️ Predicting labels\n",
      "✅ Prediction done!\n",
      "👀 Can not detect a neighborhood graph, will construct one before the over-clustering\n",
      "⛓️ Over-clustering input data with resolution set to 5\n",
      "🗳️ Majority voting the predictions\n",
      "✅ Majority voting done!\n"
     ]
    },
    {
     "name": "stdout",
     "output_type": "stream",
     "text": [
      "Annotated data 8 saved \n",
      "Processing UMI length: 9\n"
     ]
    },
    {
     "name": "stderr",
     "output_type": "stream",
     "text": [
      "🔬 Input data has 1232 cells and 28226 genes\n",
      "🔗 Matching reference genes in the model\n",
      "🧬 3377 features used for prediction\n",
      "⚖️ Scaling input data\n",
      "🖋️ Predicting labels\n",
      "✅ Prediction done!\n",
      "👀 Can not detect a neighborhood graph, will construct one before the over-clustering\n",
      "⛓️ Over-clustering input data with resolution set to 5\n",
      "🗳️ Majority voting the predictions\n",
      "✅ Majority voting done!\n"
     ]
    },
    {
     "name": "stdout",
     "output_type": "stream",
     "text": [
      "Annotated data 9 saved \n",
      "Processing UMI length: 10\n"
     ]
    },
    {
     "name": "stderr",
     "output_type": "stream",
     "text": [
      "🔬 Input data has 1232 cells and 28226 genes\n",
      "🔗 Matching reference genes in the model\n",
      "🧬 3377 features used for prediction\n",
      "⚖️ Scaling input data\n",
      "🖋️ Predicting labels\n",
      "✅ Prediction done!\n",
      "👀 Can not detect a neighborhood graph, will construct one before the over-clustering\n",
      "⛓️ Over-clustering input data with resolution set to 5\n",
      "🗳️ Majority voting the predictions\n",
      "✅ Majority voting done!\n"
     ]
    },
    {
     "name": "stdout",
     "output_type": "stream",
     "text": [
      "Annotated data 10 saved \n",
      "Processing UMI length: 11\n"
     ]
    },
    {
     "name": "stderr",
     "output_type": "stream",
     "text": [
      "🔬 Input data has 1232 cells and 28226 genes\n",
      "🔗 Matching reference genes in the model\n",
      "🧬 3377 features used for prediction\n",
      "⚖️ Scaling input data\n",
      "🖋️ Predicting labels\n",
      "✅ Prediction done!\n",
      "👀 Can not detect a neighborhood graph, will construct one before the over-clustering\n",
      "⛓️ Over-clustering input data with resolution set to 5\n",
      "🗳️ Majority voting the predictions\n",
      "✅ Majority voting done!\n"
     ]
    },
    {
     "name": "stdout",
     "output_type": "stream",
     "text": [
      "Annotated data 11 saved \n",
      "Processing UMI length: 12\n"
     ]
    },
    {
     "name": "stderr",
     "output_type": "stream",
     "text": [
      "🔬 Input data has 1232 cells and 28226 genes\n",
      "🔗 Matching reference genes in the model\n",
      "🧬 3377 features used for prediction\n",
      "⚖️ Scaling input data\n",
      "🖋️ Predicting labels\n",
      "✅ Prediction done!\n",
      "👀 Can not detect a neighborhood graph, will construct one before the over-clustering\n",
      "⛓️ Over-clustering input data with resolution set to 5\n",
      "🗳️ Majority voting the predictions\n",
      "✅ Majority voting done!\n"
     ]
    },
    {
     "name": "stdout",
     "output_type": "stream",
     "text": [
      "Annotated data 12 saved \n"
     ]
    }
   ],
   "source": [
    "import scanpy as sc\n",
    "import celltypist\n",
    "import os\n",
    "\n",
    "dataset= \"1k_PBMCs\"  # Change to \"10k_PBMCs\" if needed\n",
    "\n",
    "common_path = f\"{base_dir}/{dataset}/ub_objects/adata_matrices\"\n",
    "filepath = common_path\n",
    "output_path = os.path.join(common_path, \"cell_annotations\")\n",
    "\n",
    "# Load the CellTypist model\n",
    "model = celltypist.models.Model.load(model='Healthy_COVID19_PBMC.pkl')\n",
    "\n",
    "# Ensure the output directory exists\n",
    "os.makedirs(output_path, exist_ok=True)\n",
    "\n",
    "# Dictionary to store annotated data\n",
    "annotated_adata_dict = {}\n",
    "\n",
    "# Process each UMI length\n",
    "for i in range(1, 13):\n",
    "    print(f\"Processing UMI length: {i}\")\n",
    "    \n",
    "    # Load the h5ad file for the current UMI length\n",
    "    adata = sc.read_h5ad(filepath + f\"/adata_{i}.h5ad\")\n",
    "    \n",
    "    # Normalize counts per cell to 10,000\n",
    "    sc.pp.normalize_total(adata, target_sum=1e4)\n",
    "    \n",
    "    # Apply log1p transformation\n",
    "    sc.pp.log1p(adata)\n",
    "    \n",
    "    \n",
    "    # Annotate the cell types using the CellTypist model\n",
    "    predictions = celltypist.annotate(adata, model=model, majority_voting=True)\n",
    "    \n",
    "    # Store annotated data\n",
    "    annotated_adata = predictions.to_adata()\n",
    "    annotated_adata_dict[i] = annotated_adata\n",
    "    \n",
    "    # Save annotated AnnData object\n",
    "    annotated_output_path = os.path.join(output_path, f\"annotated_adata_matrices/annotated_adata_{i}.h5ad\")\n",
    "    annotated_adata.write_h5ad(annotated_output_path)\n",
    "    print(f\"Annotated data {i} saved \")\n",
    "\n",
    "    # # Compute UMAP\n",
    "    # sc.tl.umap(annotated_adata)\n",
    "\n",
    "    # # Plot UMAP with majority voting labels\n",
    "    # sc.pl.umap(\n",
    "    #     annotated_adata, \n",
    "    #     color=['majority_voting'], \n",
    "    #     legend_loc='on data', \n",
    "    #     title=f\"UMAP for UMI length {i}\", \n",
    "    #     show=True  # Display instead of saving\n",
    "    # )"
   ]
  },
  {
   "cell_type": "markdown",
   "metadata": {},
   "source": [
    "### Method of Moments Estimator"
   ]
  },
  {
   "cell_type": "code",
   "execution_count": 3,
   "metadata": {},
   "outputs": [
    {
     "name": "stdout",
     "output_type": "stream",
     "text": [
      "Processing UMI length: 1\n"
     ]
    },
    {
     "name": "stderr",
     "output_type": "stream",
     "text": [
      "🔬 Input data has 1232 cells and 28226 genes\n",
      "🔗 Matching reference genes in the model\n",
      "🧬 3377 features used for prediction\n",
      "⚖️ Scaling input data\n",
      "🖋️ Predicting labels\n",
      "✅ Prediction done!\n",
      "👀 Can not detect a neighborhood graph, will construct one before the over-clustering\n",
      "⛓️ Over-clustering input data with resolution set to 5\n",
      "🗳️ Majority voting the predictions\n",
      "✅ Majority voting done!\n"
     ]
    },
    {
     "name": "stdout",
     "output_type": "stream",
     "text": [
      "Annotated data 1 saved \n",
      "Processing UMI length: 2\n"
     ]
    },
    {
     "name": "stderr",
     "output_type": "stream",
     "text": [
      "🔬 Input data has 1232 cells and 28226 genes\n",
      "🔗 Matching reference genes in the model\n",
      "🧬 3377 features used for prediction\n",
      "⚖️ Scaling input data\n",
      "🖋️ Predicting labels\n",
      "✅ Prediction done!\n",
      "👀 Can not detect a neighborhood graph, will construct one before the over-clustering\n",
      "⛓️ Over-clustering input data with resolution set to 5\n",
      "🗳️ Majority voting the predictions\n",
      "✅ Majority voting done!\n"
     ]
    },
    {
     "name": "stdout",
     "output_type": "stream",
     "text": [
      "Annotated data 2 saved \n",
      "Processing UMI length: 3\n"
     ]
    },
    {
     "name": "stderr",
     "output_type": "stream",
     "text": [
      "🔬 Input data has 1232 cells and 28226 genes\n",
      "🔗 Matching reference genes in the model\n",
      "🧬 3377 features used for prediction\n",
      "⚖️ Scaling input data\n",
      "🖋️ Predicting labels\n",
      "✅ Prediction done!\n",
      "👀 Can not detect a neighborhood graph, will construct one before the over-clustering\n",
      "⛓️ Over-clustering input data with resolution set to 5\n",
      "🗳️ Majority voting the predictions\n",
      "✅ Majority voting done!\n"
     ]
    },
    {
     "name": "stdout",
     "output_type": "stream",
     "text": [
      "Annotated data 3 saved \n",
      "Processing UMI length: 4\n"
     ]
    },
    {
     "name": "stderr",
     "output_type": "stream",
     "text": [
      "🔬 Input data has 1232 cells and 28226 genes\n",
      "🔗 Matching reference genes in the model\n",
      "🧬 3377 features used for prediction\n",
      "⚖️ Scaling input data\n",
      "🖋️ Predicting labels\n",
      "✅ Prediction done!\n",
      "👀 Can not detect a neighborhood graph, will construct one before the over-clustering\n",
      "⛓️ Over-clustering input data with resolution set to 5\n",
      "🗳️ Majority voting the predictions\n",
      "✅ Majority voting done!\n"
     ]
    },
    {
     "name": "stdout",
     "output_type": "stream",
     "text": [
      "Annotated data 4 saved \n",
      "Processing UMI length: 5\n"
     ]
    },
    {
     "name": "stderr",
     "output_type": "stream",
     "text": [
      "🔬 Input data has 1232 cells and 28226 genes\n",
      "🔗 Matching reference genes in the model\n",
      "🧬 3377 features used for prediction\n",
      "⚖️ Scaling input data\n",
      "🖋️ Predicting labels\n",
      "✅ Prediction done!\n",
      "👀 Can not detect a neighborhood graph, will construct one before the over-clustering\n",
      "⛓️ Over-clustering input data with resolution set to 5\n",
      "🗳️ Majority voting the predictions\n",
      "✅ Majority voting done!\n"
     ]
    },
    {
     "name": "stdout",
     "output_type": "stream",
     "text": [
      "Annotated data 5 saved \n",
      "Processing UMI length: 6\n"
     ]
    },
    {
     "name": "stderr",
     "output_type": "stream",
     "text": [
      "🔬 Input data has 1232 cells and 28226 genes\n",
      "🔗 Matching reference genes in the model\n",
      "🧬 3377 features used for prediction\n",
      "⚖️ Scaling input data\n",
      "🖋️ Predicting labels\n",
      "✅ Prediction done!\n",
      "👀 Can not detect a neighborhood graph, will construct one before the over-clustering\n",
      "⛓️ Over-clustering input data with resolution set to 5\n",
      "🗳️ Majority voting the predictions\n",
      "✅ Majority voting done!\n"
     ]
    },
    {
     "name": "stdout",
     "output_type": "stream",
     "text": [
      "Annotated data 6 saved \n",
      "Processing UMI length: 7\n"
     ]
    },
    {
     "name": "stderr",
     "output_type": "stream",
     "text": [
      "🔬 Input data has 1232 cells and 28226 genes\n",
      "🔗 Matching reference genes in the model\n",
      "🧬 3377 features used for prediction\n",
      "⚖️ Scaling input data\n",
      "🖋️ Predicting labels\n",
      "✅ Prediction done!\n",
      "👀 Can not detect a neighborhood graph, will construct one before the over-clustering\n",
      "⛓️ Over-clustering input data with resolution set to 5\n",
      "🗳️ Majority voting the predictions\n",
      "✅ Majority voting done!\n"
     ]
    },
    {
     "name": "stdout",
     "output_type": "stream",
     "text": [
      "Annotated data 7 saved \n",
      "Processing UMI length: 8\n"
     ]
    },
    {
     "name": "stderr",
     "output_type": "stream",
     "text": [
      "🔬 Input data has 1232 cells and 28226 genes\n",
      "🔗 Matching reference genes in the model\n",
      "🧬 3377 features used for prediction\n",
      "⚖️ Scaling input data\n",
      "🖋️ Predicting labels\n",
      "✅ Prediction done!\n",
      "👀 Can not detect a neighborhood graph, will construct one before the over-clustering\n",
      "⛓️ Over-clustering input data with resolution set to 5\n",
      "🗳️ Majority voting the predictions\n",
      "✅ Majority voting done!\n"
     ]
    },
    {
     "name": "stdout",
     "output_type": "stream",
     "text": [
      "Annotated data 8 saved \n",
      "Processing UMI length: 9\n"
     ]
    },
    {
     "name": "stderr",
     "output_type": "stream",
     "text": [
      "🔬 Input data has 1232 cells and 28226 genes\n",
      "🔗 Matching reference genes in the model\n",
      "🧬 3377 features used for prediction\n",
      "⚖️ Scaling input data\n",
      "🖋️ Predicting labels\n",
      "✅ Prediction done!\n",
      "👀 Can not detect a neighborhood graph, will construct one before the over-clustering\n",
      "⛓️ Over-clustering input data with resolution set to 5\n",
      "🗳️ Majority voting the predictions\n",
      "✅ Majority voting done!\n"
     ]
    },
    {
     "name": "stdout",
     "output_type": "stream",
     "text": [
      "Annotated data 9 saved \n",
      "Processing UMI length: 10\n"
     ]
    },
    {
     "name": "stderr",
     "output_type": "stream",
     "text": [
      "🔬 Input data has 1232 cells and 28226 genes\n",
      "🔗 Matching reference genes in the model\n",
      "🧬 3377 features used for prediction\n",
      "⚖️ Scaling input data\n",
      "🖋️ Predicting labels\n",
      "✅ Prediction done!\n",
      "👀 Can not detect a neighborhood graph, will construct one before the over-clustering\n",
      "⛓️ Over-clustering input data with resolution set to 5\n",
      "🗳️ Majority voting the predictions\n",
      "✅ Majority voting done!\n"
     ]
    },
    {
     "name": "stdout",
     "output_type": "stream",
     "text": [
      "Annotated data 10 saved \n",
      "Processing UMI length: 11\n"
     ]
    },
    {
     "name": "stderr",
     "output_type": "stream",
     "text": [
      "🔬 Input data has 1232 cells and 28226 genes\n",
      "🔗 Matching reference genes in the model\n",
      "🧬 3377 features used for prediction\n",
      "⚖️ Scaling input data\n",
      "🖋️ Predicting labels\n",
      "✅ Prediction done!\n",
      "👀 Can not detect a neighborhood graph, will construct one before the over-clustering\n",
      "⛓️ Over-clustering input data with resolution set to 5\n",
      "🗳️ Majority voting the predictions\n",
      "✅ Majority voting done!\n"
     ]
    },
    {
     "name": "stdout",
     "output_type": "stream",
     "text": [
      "Annotated data 11 saved \n",
      "Processing UMI length: 12\n"
     ]
    },
    {
     "name": "stderr",
     "output_type": "stream",
     "text": [
      "🔬 Input data has 1232 cells and 28226 genes\n",
      "🔗 Matching reference genes in the model\n",
      "🧬 3377 features used for prediction\n",
      "⚖️ Scaling input data\n",
      "🖋️ Predicting labels\n",
      "✅ Prediction done!\n",
      "👀 Can not detect a neighborhood graph, will construct one before the over-clustering\n",
      "⛓️ Over-clustering input data with resolution set to 5\n",
      "🗳️ Majority voting the predictions\n",
      "✅ Majority voting done!\n"
     ]
    },
    {
     "name": "stdout",
     "output_type": "stream",
     "text": [
      "Annotated data 12 saved \n"
     ]
    }
   ],
   "source": [
    "import scanpy as sc\n",
    "import celltypist\n",
    "import os\n",
    "\n",
    "dataset = \"1k_PBMCs\"  # Change to \"10k_PBMCs\" if needed\n",
    "common_path = f\"{base_dir}/{dataset}/ub_objects/col_aware_nunif_matrices\" # 1k\n",
    "\n",
    "# Define file paths\n",
    "filepath = common_path\n",
    "output_path = os.path.join(common_path, \"cell_annotations\")\n",
    "\n",
    "# Load the CellTypist model\n",
    "model = celltypist.models.Model.load(model='Healthy_COVID19_PBMC.pkl')\n",
    "\n",
    "# Ensure the output directory exists\n",
    "os.makedirs(output_path, exist_ok=True)\n",
    "\n",
    "# Dictionary to store annotated data\n",
    "annotated_adata_dict = {}\n",
    "\n",
    "# Process each UMI length\n",
    "for i in range(1, 13):\n",
    "    print(f\"Processing UMI length: {i}\")\n",
    "    \n",
    "    # Load the h5ad file for the current UMI length\n",
    "    adata = sc.read_h5ad(filepath + f\"/adata_{i}.h5ad\")\n",
    "    \n",
    "    # Normalize counts per cell to 10,000\n",
    "    sc.pp.normalize_total(adata, target_sum=1e4)\n",
    "    \n",
    "    # Apply log1p transformation\n",
    "    sc.pp.log1p(adata)\n",
    "    \n",
    "    # Annotate the cell types using the CellTypist model\n",
    "    predictions = celltypist.annotate(adata, model=model, majority_voting=True)\n",
    "    \n",
    "    # Store annotated data\n",
    "    annotated_adata = predictions.to_adata()\n",
    "    annotated_adata_dict[i] = annotated_adata\n",
    "    \n",
    "    # Save annotated AnnData object\n",
    "    annotated_output_path = os.path.join(output_path, f\"annotated_inv_matrices/annotated_adata_{i}.h5ad\")\n",
    "    annotated_adata.write_h5ad(annotated_output_path)\n",
    "    print(f\"Annotated data {i} saved \")\n",
    "\n",
    "    # Compute UMAP\n",
    "    # sc.tl.umap(annotated_adata)\n",
    "\n",
    "    # # Plot UMAP with majority voting labels\n",
    "    # sc.pl.umap(\n",
    "    #     annotated_adata, \n",
    "    #     color=['majority_voting'], \n",
    "    #     legend_loc='on data', \n",
    "    #     title=f\"UMAP for UMI length {i}(inverted)\", \n",
    "    #     show=True  # Display instead of saving\n",
    "    # )\n"
   ]
  },
  {
   "cell_type": "markdown",
   "metadata": {},
   "source": [
    "### Celltypist Error Plot"
   ]
  },
  {
   "cell_type": "code",
   "execution_count": 4,
   "metadata": {},
   "outputs": [
    {
     "data": {
      "image/png": "[encoded data removed]",
      "text/plain": [
       "<Figure size 1000x1000 with 1 Axes>"
      ]
     },
     "metadata": {},
     "output_type": "display_data"
    }
   ],
   "source": [
    "import os\n",
    "import scanpy as sc\n",
    "import matplotlib.pyplot as plt\n",
    "import numpy as np\n",
    "from collections import Counter\n",
    "dataset = \"1k_PBMCs\"  # Change to \"10k_PBMCs\" if needed\n",
    "# Paths\n",
    "regular_path = f\"{base_dir}/{dataset}/ub_objects/adata_matrices/cell_annotations/annotated_adata_matrices\"\n",
    "inverted_path = f\"{base_dir}/{dataset}/ub_objects/col_aware_nunif_matrices/cell_annotations/annotated_inv_matrices\"\n",
    "\n",
    "\n",
    "# 1) Load regular annotated adata matrices into a dict\n",
    "annotated_ads_reg = {\n",
    "    i: sc.read_h5ad(f\"{regular_path}/annotated_adata_{i}.h5ad\")\n",
    "    for i in range(1, 13)\n",
    "}\n",
    "\n",
    "# 2) Use UMI 12 as ground truth\n",
    "ground_truth_adata = annotated_ads_reg[12]\n",
    "common_cells = sorted(ground_truth_adata.obs_names)\n",
    "ground_truth = ground_truth_adata.obs.loc[common_cells, 'majority_voting'].astype(str).values\n",
    "gt_labels = ground_truth_adata.obs['majority_voting'].astype(str).to_dict()\n",
    "\n",
    "# 4) Compute error vectors\n",
    "error_vector_reg = np.zeros(12)\n",
    "error_vector_inv = np.zeros(12)\n",
    "\n",
    "for i in range(1, 13):\n",
    "    # Regular predictions aligned to UMI-12 cells\n",
    "    ad_reg = annotated_ads_reg[i]\n",
    "    present = [c for c in common_cells if c in ad_reg.obs_names]\n",
    "    preds_reg = ad_reg.obs.loc[present, 'majority_voting'].astype(str).values\n",
    "    true_aligned = np.array([gt_labels[c] for c in present], dtype=str)\n",
    "    error_vector_reg[i - 1] = np.mean(preds_reg != true_aligned)\n",
    "\n",
    "    # Inverted predictions aligned to UMI-12 cells\n",
    "    ad_inv = sc.read_h5ad(f\"{inverted_path}/annotated_adata_{i}.h5ad\")\n",
    "    present_inv = [c for c in common_cells if c in ad_inv.obs_names]\n",
    "    preds_inv = ad_inv.obs.loc[present_inv, 'majority_voting'].astype(str).values\n",
    "    true_aligned_inv = np.array([gt_labels[c] for c in present_inv], dtype=str)\n",
    "    error_vector_inv[i - 1] = np.mean(preds_inv != true_aligned_inv)\n",
    "\n",
    "# 5) Plot both error curves\n",
    "plt.figure(figsize=(10, 10))\n",
    "\n",
    "# Blue for Naive (Regular)\n",
    "plt.plot(\n",
    "    range(1, 13), error_vector_reg, marker='o', linestyle='-',\n",
    "    label='Naive estimator', markersize=10, linewidth=3, color='#1f77b4'\n",
    ")\n",
    "\n",
    "# Green for Collision-aware (Inverted)\n",
    "plt.plot(\n",
    "    range(1, 13), error_vector_inv, marker='o', linestyle='-',\n",
    "    label='Collision-aware estimator', markersize=10, linewidth=3, color='#2ca02c'\n",
    ")\n",
    "\n",
    "plt.xlabel('UMI Length', fontsize=20)\n",
    "plt.ylabel('Proportion of incorrect predictions', fontsize=20)\n",
    "plt.ylim(bottom=0)\n",
    "plt.xticks(range(1, 13), fontsize=14)\n",
    "plt.yticks(fontsize=14)\n",
    "plt.axhline(y=0, color='k', linestyle='--', linewidth=1)\n",
    "plt.grid(True, linestyle='--', linewidth=0.5, alpha=0.7)\n",
    "plt.legend(fontsize=18)\n",
    "plt.tight_layout()\n",
    "out_file = f\"{base_dir}/figures/{dataset}/{dataset}_cell_typist_error.pdf\"\n",
    "# os.makedirs(os.path.dirname(out_file), exist_ok=True)\n",
    "plt.savefig(out_file)\n",
    "plt.show()"
   ]
  },
  {
   "cell_type": "markdown",
   "metadata": {},
   "source": [
    "## 10k PBMCs: All cells, all genes"
   ]
  },
  {
   "cell_type": "markdown",
   "metadata": {},
   "source": [
    "### Naive Method "
   ]
  },
  {
   "cell_type": "code",
   "execution_count": 5,
   "metadata": {},
   "outputs": [
    {
     "name": "stdout",
     "output_type": "stream",
     "text": [
      "Processing UMI length: 1\n"
     ]
    },
    {
     "name": "stderr",
     "output_type": "stream",
     "text": [
      "🔬 Input data has 11458 cells and 33100 genes\n",
      "🔗 Matching reference genes in the model\n",
      "🧬 3434 features used for prediction\n",
      "⚖️ Scaling input data\n",
      "🖋️ Predicting labels\n",
      "✅ Prediction done!\n",
      "👀 Can not detect a neighborhood graph, will construct one before the over-clustering\n",
      "⛓️ Over-clustering input data with resolution set to 10\n",
      "🗳️ Majority voting the predictions\n",
      "✅ Majority voting done!\n"
     ]
    },
    {
     "name": "stdout",
     "output_type": "stream",
     "text": [
      "Annotated data 1 saved \n",
      "Processing UMI length: 2\n"
     ]
    },
    {
     "name": "stderr",
     "output_type": "stream",
     "text": [
      "🔬 Input data has 11458 cells and 33100 genes\n",
      "🔗 Matching reference genes in the model\n",
      "🧬 3434 features used for prediction\n",
      "⚖️ Scaling input data\n",
      "🖋️ Predicting labels\n",
      "✅ Prediction done!\n",
      "👀 Can not detect a neighborhood graph, will construct one before the over-clustering\n",
      "⛓️ Over-clustering input data with resolution set to 10\n",
      "🗳️ Majority voting the predictions\n",
      "✅ Majority voting done!\n"
     ]
    },
    {
     "name": "stdout",
     "output_type": "stream",
     "text": [
      "Annotated data 2 saved \n",
      "Processing UMI length: 3\n"
     ]
    },
    {
     "name": "stderr",
     "output_type": "stream",
     "text": [
      "🔬 Input data has 11458 cells and 33100 genes\n",
      "🔗 Matching reference genes in the model\n",
      "🧬 3434 features used for prediction\n",
      "⚖️ Scaling input data\n",
      "🖋️ Predicting labels\n",
      "✅ Prediction done!\n",
      "👀 Can not detect a neighborhood graph, will construct one before the over-clustering\n",
      "⛓️ Over-clustering input data with resolution set to 10\n",
      "🗳️ Majority voting the predictions\n",
      "✅ Majority voting done!\n"
     ]
    },
    {
     "name": "stdout",
     "output_type": "stream",
     "text": [
      "Annotated data 3 saved \n",
      "Processing UMI length: 4\n"
     ]
    },
    {
     "name": "stderr",
     "output_type": "stream",
     "text": [
      "🔬 Input data has 11458 cells and 33100 genes\n",
      "🔗 Matching reference genes in the model\n",
      "🧬 3434 features used for prediction\n",
      "⚖️ Scaling input data\n",
      "🖋️ Predicting labels\n",
      "✅ Prediction done!\n",
      "👀 Can not detect a neighborhood graph, will construct one before the over-clustering\n",
      "⛓️ Over-clustering input data with resolution set to 10\n",
      "🗳️ Majority voting the predictions\n",
      "✅ Majority voting done!\n"
     ]
    },
    {
     "name": "stdout",
     "output_type": "stream",
     "text": [
      "Annotated data 4 saved \n",
      "Processing UMI length: 5\n"
     ]
    },
    {
     "name": "stderr",
     "output_type": "stream",
     "text": [
      "🔬 Input data has 11458 cells and 33100 genes\n",
      "🔗 Matching reference genes in the model\n",
      "🧬 3434 features used for prediction\n",
      "⚖️ Scaling input data\n",
      "🖋️ Predicting labels\n",
      "✅ Prediction done!\n",
      "👀 Can not detect a neighborhood graph, will construct one before the over-clustering\n",
      "⛓️ Over-clustering input data with resolution set to 10\n",
      "🗳️ Majority voting the predictions\n",
      "✅ Majority voting done!\n"
     ]
    },
    {
     "name": "stdout",
     "output_type": "stream",
     "text": [
      "Annotated data 5 saved \n",
      "Processing UMI length: 6\n"
     ]
    },
    {
     "name": "stderr",
     "output_type": "stream",
     "text": [
      "🔬 Input data has 11458 cells and 33100 genes\n",
      "🔗 Matching reference genes in the model\n",
      "🧬 3434 features used for prediction\n",
      "⚖️ Scaling input data\n",
      "🖋️ Predicting labels\n",
      "✅ Prediction done!\n",
      "👀 Can not detect a neighborhood graph, will construct one before the over-clustering\n",
      "⛓️ Over-clustering input data with resolution set to 10\n",
      "🗳️ Majority voting the predictions\n",
      "✅ Majority voting done!\n"
     ]
    },
    {
     "name": "stdout",
     "output_type": "stream",
     "text": [
      "Annotated data 6 saved \n",
      "Processing UMI length: 7\n"
     ]
    },
    {
     "name": "stderr",
     "output_type": "stream",
     "text": [
      "🔬 Input data has 11458 cells and 33100 genes\n",
      "🔗 Matching reference genes in the model\n",
      "🧬 3434 features used for prediction\n",
      "⚖️ Scaling input data\n",
      "🖋️ Predicting labels\n",
      "✅ Prediction done!\n",
      "👀 Can not detect a neighborhood graph, will construct one before the over-clustering\n",
      "⛓️ Over-clustering input data with resolution set to 10\n",
      "🗳️ Majority voting the predictions\n",
      "✅ Majority voting done!\n"
     ]
    },
    {
     "name": "stdout",
     "output_type": "stream",
     "text": [
      "Annotated data 7 saved \n",
      "Processing UMI length: 8\n"
     ]
    },
    {
     "name": "stderr",
     "output_type": "stream",
     "text": [
      "🔬 Input data has 11458 cells and 33100 genes\n",
      "🔗 Matching reference genes in the model\n",
      "🧬 3434 features used for prediction\n",
      "⚖️ Scaling input data\n",
      "🖋️ Predicting labels\n",
      "✅ Prediction done!\n",
      "👀 Can not detect a neighborhood graph, will construct one before the over-clustering\n",
      "⛓️ Over-clustering input data with resolution set to 10\n",
      "🗳️ Majority voting the predictions\n",
      "✅ Majority voting done!\n"
     ]
    },
    {
     "name": "stdout",
     "output_type": "stream",
     "text": [
      "Annotated data 8 saved \n",
      "Processing UMI length: 9\n"
     ]
    },
    {
     "name": "stderr",
     "output_type": "stream",
     "text": [
      "🔬 Input data has 11458 cells and 33100 genes\n",
      "🔗 Matching reference genes in the model\n",
      "🧬 3434 features used for prediction\n",
      "⚖️ Scaling input data\n",
      "🖋️ Predicting labels\n",
      "✅ Prediction done!\n",
      "👀 Can not detect a neighborhood graph, will construct one before the over-clustering\n",
      "⛓️ Over-clustering input data with resolution set to 10\n",
      "🗳️ Majority voting the predictions\n",
      "✅ Majority voting done!\n"
     ]
    },
    {
     "name": "stdout",
     "output_type": "stream",
     "text": [
      "Annotated data 9 saved \n",
      "Processing UMI length: 10\n"
     ]
    },
    {
     "name": "stderr",
     "output_type": "stream",
     "text": [
      "🔬 Input data has 11458 cells and 33100 genes\n",
      "🔗 Matching reference genes in the model\n",
      "🧬 3434 features used for prediction\n",
      "⚖️ Scaling input data\n",
      "🖋️ Predicting labels\n",
      "✅ Prediction done!\n",
      "👀 Can not detect a neighborhood graph, will construct one before the over-clustering\n",
      "⛓️ Over-clustering input data with resolution set to 10\n",
      "🗳️ Majority voting the predictions\n",
      "✅ Majority voting done!\n"
     ]
    },
    {
     "name": "stdout",
     "output_type": "stream",
     "text": [
      "Annotated data 10 saved \n",
      "Processing UMI length: 11\n"
     ]
    },
    {
     "name": "stderr",
     "output_type": "stream",
     "text": [
      "🔬 Input data has 11458 cells and 33100 genes\n",
      "🔗 Matching reference genes in the model\n",
      "🧬 3434 features used for prediction\n",
      "⚖️ Scaling input data\n",
      "🖋️ Predicting labels\n",
      "✅ Prediction done!\n",
      "👀 Can not detect a neighborhood graph, will construct one before the over-clustering\n",
      "⛓️ Over-clustering input data with resolution set to 10\n",
      "🗳️ Majority voting the predictions\n",
      "✅ Majority voting done!\n"
     ]
    },
    {
     "name": "stdout",
     "output_type": "stream",
     "text": [
      "Annotated data 11 saved \n",
      "Processing UMI length: 12\n"
     ]
    },
    {
     "name": "stderr",
     "output_type": "stream",
     "text": [
      "🔬 Input data has 11458 cells and 33100 genes\n",
      "🔗 Matching reference genes in the model\n",
      "🧬 3434 features used for prediction\n",
      "⚖️ Scaling input data\n",
      "🖋️ Predicting labels\n",
      "✅ Prediction done!\n",
      "👀 Can not detect a neighborhood graph, will construct one before the over-clustering\n",
      "⛓️ Over-clustering input data with resolution set to 10\n",
      "🗳️ Majority voting the predictions\n",
      "✅ Majority voting done!\n"
     ]
    },
    {
     "name": "stdout",
     "output_type": "stream",
     "text": [
      "Annotated data 12 saved \n"
     ]
    }
   ],
   "source": [
    "import scanpy as sc\n",
    "import celltypist\n",
    "import os\n",
    "\n",
    "dataset= \"10k_PBMCs\"  # Change to \"10k_PBMCs\" if needed\n",
    "\n",
    "common_path = f\"{base_dir}/{dataset}/ub_objects/adata_matrices\"\n",
    "filepath = common_path\n",
    "output_path = os.path.join(common_path, \"cell_annotations\")\n",
    "\n",
    "# Load the CellTypist model\n",
    "model = celltypist.models.Model.load(model='Healthy_COVID19_PBMC.pkl')\n",
    "\n",
    "# Ensure the output directory exists\n",
    "os.makedirs(output_path, exist_ok=True)\n",
    "\n",
    "# Dictionary to store annotated data\n",
    "annotated_adata_dict = {}\n",
    "\n",
    "# Process each UMI length\n",
    "for i in range(1, 13):\n",
    "    print(f\"Processing UMI length: {i}\")\n",
    "    \n",
    "    # Load the h5ad file for the current UMI length\n",
    "    adata = sc.read_h5ad(filepath + f\"/adata_{i}.h5ad\")\n",
    "    \n",
    "    # Normalize counts per cell to 10,000\n",
    "    sc.pp.normalize_total(adata, target_sum=1e4)\n",
    "    \n",
    "    # Apply log1p transformation\n",
    "    sc.pp.log1p(adata)\n",
    "    \n",
    "    # Annotate the cell types using the CellTypist model\n",
    "    predictions = celltypist.annotate(adata, model=model, majority_voting=True)\n",
    "    \n",
    "    # Store annotated data\n",
    "    annotated_adata = predictions.to_adata()\n",
    "    annotated_adata_dict[i] = annotated_adata\n",
    "    \n",
    "    # Save annotated AnnData object\n",
    "    annotated_output_path = os.path.join(output_path, f\"annotated_adata_matrices/annotated_adata_{i}.h5ad\")\n",
    "    annotated_adata.write_h5ad(annotated_output_path)\n",
    "    print(f\"Annotated data {i} saved \")\n",
    "\n",
    "    # # Compute UMAP\n",
    "    # sc.tl.umap(annotated_adata)\n",
    "\n",
    "    # # Plot UMAP with majority voting labels\n",
    "    # sc.pl.umap(\n",
    "    #     annotated_adata, \n",
    "    #     color=['majority_voting'], \n",
    "    #     legend_loc='on data', \n",
    "    #     title=f\"UMAP for UMI length {i}\", \n",
    "    #     show=True  # Display instead of saving\n",
    "    # )"
   ]
  },
  {
   "cell_type": "markdown",
   "metadata": {},
   "source": [
    "## 5k PBMCs: All cells, all genes (excluding MALAT1)"
   ]
  },
  {
   "cell_type": "markdown",
   "metadata": {},
   "source": [
    "### Naive Estimator"
   ]
  },
  {
   "cell_type": "code",
   "execution_count": 6,
   "metadata": {},
   "outputs": [
    {
     "name": "stdout",
     "output_type": "stream",
     "text": [
      "Processing UMI length: 1\n"
     ]
    },
    {
     "name": "stderr",
     "output_type": "stream",
     "text": [
      "🔬 Input data has 5709 cells and 31131 genes\n",
      "🔗 Matching reference genes in the model\n",
      "🧬 3430 features used for prediction\n",
      "⚖️ Scaling input data\n",
      "🖋️ Predicting labels\n",
      "✅ Prediction done!\n",
      "👀 Can not detect a neighborhood graph, will construct one before the over-clustering\n",
      "⛓️ Over-clustering input data with resolution set to 10\n",
      "🗳️ Majority voting the predictions\n",
      "✅ Majority voting done!\n"
     ]
    },
    {
     "name": "stdout",
     "output_type": "stream",
     "text": [
      "Annotated data 1 saved \n",
      "Processing UMI length: 2\n"
     ]
    },
    {
     "name": "stderr",
     "output_type": "stream",
     "text": [
      "🔬 Input data has 5709 cells and 31131 genes\n",
      "🔗 Matching reference genes in the model\n",
      "🧬 3430 features used for prediction\n",
      "⚖️ Scaling input data\n",
      "🖋️ Predicting labels\n",
      "✅ Prediction done!\n",
      "👀 Can not detect a neighborhood graph, will construct one before the over-clustering\n",
      "⛓️ Over-clustering input data with resolution set to 10\n",
      "🗳️ Majority voting the predictions\n",
      "✅ Majority voting done!\n"
     ]
    },
    {
     "name": "stdout",
     "output_type": "stream",
     "text": [
      "Annotated data 2 saved \n",
      "Processing UMI length: 3\n"
     ]
    },
    {
     "name": "stderr",
     "output_type": "stream",
     "text": [
      "🔬 Input data has 5709 cells and 31131 genes\n",
      "🔗 Matching reference genes in the model\n",
      "🧬 3430 features used for prediction\n",
      "⚖️ Scaling input data\n",
      "🖋️ Predicting labels\n",
      "✅ Prediction done!\n",
      "👀 Can not detect a neighborhood graph, will construct one before the over-clustering\n",
      "⛓️ Over-clustering input data with resolution set to 10\n",
      "🗳️ Majority voting the predictions\n",
      "✅ Majority voting done!\n"
     ]
    },
    {
     "name": "stdout",
     "output_type": "stream",
     "text": [
      "Annotated data 3 saved \n",
      "Processing UMI length: 4\n"
     ]
    },
    {
     "name": "stderr",
     "output_type": "stream",
     "text": [
      "🔬 Input data has 5709 cells and 31131 genes\n",
      "🔗 Matching reference genes in the model\n",
      "🧬 3430 features used for prediction\n",
      "⚖️ Scaling input data\n",
      "🖋️ Predicting labels\n",
      "✅ Prediction done!\n",
      "👀 Can not detect a neighborhood graph, will construct one before the over-clustering\n",
      "⛓️ Over-clustering input data with resolution set to 10\n",
      "🗳️ Majority voting the predictions\n",
      "✅ Majority voting done!\n"
     ]
    },
    {
     "name": "stdout",
     "output_type": "stream",
     "text": [
      "Annotated data 4 saved \n",
      "Processing UMI length: 5\n"
     ]
    },
    {
     "name": "stderr",
     "output_type": "stream",
     "text": [
      "🔬 Input data has 5709 cells and 31131 genes\n",
      "🔗 Matching reference genes in the model\n",
      "🧬 3430 features used for prediction\n",
      "⚖️ Scaling input data\n",
      "🖋️ Predicting labels\n",
      "✅ Prediction done!\n",
      "👀 Can not detect a neighborhood graph, will construct one before the over-clustering\n",
      "⛓️ Over-clustering input data with resolution set to 10\n",
      "🗳️ Majority voting the predictions\n",
      "✅ Majority voting done!\n"
     ]
    },
    {
     "name": "stdout",
     "output_type": "stream",
     "text": [
      "Annotated data 5 saved \n",
      "Processing UMI length: 6\n"
     ]
    },
    {
     "name": "stderr",
     "output_type": "stream",
     "text": [
      "🔬 Input data has 5709 cells and 31131 genes\n",
      "🔗 Matching reference genes in the model\n",
      "🧬 3430 features used for prediction\n",
      "⚖️ Scaling input data\n",
      "🖋️ Predicting labels\n",
      "✅ Prediction done!\n",
      "👀 Can not detect a neighborhood graph, will construct one before the over-clustering\n",
      "⛓️ Over-clustering input data with resolution set to 10\n",
      "🗳️ Majority voting the predictions\n",
      "✅ Majority voting done!\n"
     ]
    },
    {
     "name": "stdout",
     "output_type": "stream",
     "text": [
      "Annotated data 6 saved \n",
      "Processing UMI length: 7\n"
     ]
    },
    {
     "name": "stderr",
     "output_type": "stream",
     "text": [
      "🔬 Input data has 5709 cells and 31131 genes\n",
      "🔗 Matching reference genes in the model\n",
      "🧬 3430 features used for prediction\n",
      "⚖️ Scaling input data\n",
      "🖋️ Predicting labels\n",
      "✅ Prediction done!\n",
      "👀 Can not detect a neighborhood graph, will construct one before the over-clustering\n",
      "⛓️ Over-clustering input data with resolution set to 10\n",
      "🗳️ Majority voting the predictions\n",
      "✅ Majority voting done!\n"
     ]
    },
    {
     "name": "stdout",
     "output_type": "stream",
     "text": [
      "Annotated data 7 saved \n",
      "Processing UMI length: 8\n"
     ]
    },
    {
     "name": "stderr",
     "output_type": "stream",
     "text": [
      "🔬 Input data has 5709 cells and 31131 genes\n",
      "🔗 Matching reference genes in the model\n",
      "🧬 3430 features used for prediction\n",
      "⚖️ Scaling input data\n",
      "🖋️ Predicting labels\n",
      "✅ Prediction done!\n",
      "👀 Can not detect a neighborhood graph, will construct one before the over-clustering\n",
      "⛓️ Over-clustering input data with resolution set to 10\n",
      "🗳️ Majority voting the predictions\n",
      "✅ Majority voting done!\n"
     ]
    },
    {
     "name": "stdout",
     "output_type": "stream",
     "text": [
      "Annotated data 8 saved \n",
      "Processing UMI length: 9\n"
     ]
    },
    {
     "name": "stderr",
     "output_type": "stream",
     "text": [
      "🔬 Input data has 5709 cells and 31131 genes\n",
      "🔗 Matching reference genes in the model\n",
      "🧬 3430 features used for prediction\n",
      "⚖️ Scaling input data\n",
      "🖋️ Predicting labels\n",
      "✅ Prediction done!\n",
      "👀 Can not detect a neighborhood graph, will construct one before the over-clustering\n",
      "⛓️ Over-clustering input data with resolution set to 10\n",
      "🗳️ Majority voting the predictions\n",
      "✅ Majority voting done!\n"
     ]
    },
    {
     "name": "stdout",
     "output_type": "stream",
     "text": [
      "Annotated data 9 saved \n",
      "Processing UMI length: 10\n"
     ]
    },
    {
     "name": "stderr",
     "output_type": "stream",
     "text": [
      "🔬 Input data has 5709 cells and 31131 genes\n",
      "🔗 Matching reference genes in the model\n",
      "🧬 3430 features used for prediction\n",
      "⚖️ Scaling input data\n",
      "🖋️ Predicting labels\n",
      "✅ Prediction done!\n",
      "👀 Can not detect a neighborhood graph, will construct one before the over-clustering\n",
      "⛓️ Over-clustering input data with resolution set to 10\n",
      "🗳️ Majority voting the predictions\n",
      "✅ Majority voting done!\n"
     ]
    },
    {
     "name": "stdout",
     "output_type": "stream",
     "text": [
      "Annotated data 10 saved \n",
      "Processing UMI length: 11\n"
     ]
    },
    {
     "name": "stderr",
     "output_type": "stream",
     "text": [
      "🔬 Input data has 5709 cells and 31131 genes\n",
      "🔗 Matching reference genes in the model\n",
      "🧬 3430 features used for prediction\n",
      "⚖️ Scaling input data\n",
      "🖋️ Predicting labels\n",
      "✅ Prediction done!\n",
      "👀 Can not detect a neighborhood graph, will construct one before the over-clustering\n",
      "⛓️ Over-clustering input data with resolution set to 10\n",
      "🗳️ Majority voting the predictions\n",
      "✅ Majority voting done!\n"
     ]
    },
    {
     "name": "stdout",
     "output_type": "stream",
     "text": [
      "Annotated data 11 saved \n",
      "Processing UMI length: 12\n"
     ]
    },
    {
     "name": "stderr",
     "output_type": "stream",
     "text": [
      "🔬 Input data has 5709 cells and 31131 genes\n",
      "🔗 Matching reference genes in the model\n",
      "🧬 3430 features used for prediction\n",
      "⚖️ Scaling input data\n",
      "🖋️ Predicting labels\n",
      "✅ Prediction done!\n",
      "👀 Can not detect a neighborhood graph, will construct one before the over-clustering\n",
      "⛓️ Over-clustering input data with resolution set to 10\n",
      "🗳️ Majority voting the predictions\n",
      "✅ Majority voting done!\n"
     ]
    },
    {
     "name": "stdout",
     "output_type": "stream",
     "text": [
      "Annotated data 12 saved \n"
     ]
    }
   ],
   "source": [
    "import scanpy as sc\n",
    "import celltypist\n",
    "import os\n",
    "\n",
    "dataset= \"5k_PBMCs\"  # Change to \"10k_PBMCs\" if needed\n",
    "\n",
    "common_path = f\"{base_dir}/{dataset}/ub_objects/adata_matrices\"\n",
    "filepath = common_path\n",
    "output_path = os.path.join(common_path, \"cell_annotations\")\n",
    "\n",
    "# Load the CellTypist model\n",
    "model = celltypist.models.Model.load(model='Healthy_COVID19_PBMC.pkl')\n",
    "\n",
    "# Ensure the output directory exists\n",
    "os.makedirs(output_path, exist_ok=True)\n",
    "\n",
    "# Dictionary to store annotated data\n",
    "annotated_adata_dict = {}\n",
    "\n",
    "# Process each UMI length\n",
    "for i in range(1, 13):\n",
    "    print(f\"Processing UMI length: {i}\")\n",
    "    \n",
    "    # Load the h5ad file for the current UMI length\n",
    "    adata = sc.read_h5ad(filepath + f\"/adata_{i}.h5ad\")\n",
    "    \n",
    "    # Normalize counts per cell to 10,000\n",
    "    sc.pp.normalize_total(adata, target_sum=1e4)\n",
    "    \n",
    "    # Apply log1p transformation\n",
    "    sc.pp.log1p(adata)\n",
    "    \n",
    "    # Annotate the cell types using the CellTypist model\n",
    "    predictions = celltypist.annotate(adata, model=model, majority_voting=True)\n",
    "    \n",
    "    # Store annotated data\n",
    "    annotated_adata = predictions.to_adata()\n",
    "    annotated_adata_dict[i] = annotated_adata\n",
    "    \n",
    "    # Save annotated AnnData object\n",
    "    annotated_output_path = os.path.join(output_path, f\"annotated_adata_matrices/annotated_adata_{i}.h5ad\")\n",
    "    annotated_adata.write_h5ad(annotated_output_path)\n",
    "    print(f\"Annotated data {i} saved \")\n",
    "\n",
    "    # # Compute UMAP\n",
    "    # sc.tl.umap(annotated_adata)\n",
    "\n",
    "    # # Plot UMAP with majority voting labels\n",
    "    # sc.pl.umap(\n",
    "    #     annotated_adata, \n",
    "    #     color=['majority_voting'], \n",
    "    #     legend_loc='on data', \n",
    "    #     title=f\"UMAP for UMI length {i}\", \n",
    "    #     show=True  # Display instead of saving\n",
    "    # )"
   ]
  }
 ],
 "metadata": {
  "kernelspec": {
   "display_name": "Python 3 (ipykernel)",
   "language": "python",
   "name": "python3"
  },
  "language_info": {
   "codemirror_mode": {
    "name": "ipython",
    "version": 3
   },
   "file_extension": ".py",
   "mimetype": "text/x-python",
   "name": "python",
   "nbconvert_exporter": "python",
   "pygments_lexer": "ipython3",
   "version": "3.10.17"
  }
 },
 "nbformat": 4,
 "nbformat_minor": 2
}
